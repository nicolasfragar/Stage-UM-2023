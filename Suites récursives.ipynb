{
 "cells": [
  {
   "cell_type": "markdown",
   "metadata": {},
   "source": [
    "## Illustration de la convergence d'une suite récursive\n",
    "Ce notebook à pour vocation d'illustrer la convergence (ou non) d'une suite définie récursivement par x<sub>n+1</sub> = f(x<sub>n</sub>)"
   ]
  },
  {
   "cell_type": "code",
   "execution_count": 4,
   "metadata": {},
   "outputs": [],
   "source": [
    "import matplotlib.pyplot as plt\n",
    "import ipywidgets as widgets\n",
    "from numpy import linspace"
   ]
  },
  {
   "cell_type": "code",
   "execution_count": 5,
   "metadata": {},
   "outputs": [],
   "source": [
    "def iterate_n_times(f,x0,n):\n",
    "    x0 = float(x0)\n",
    "    L = []\n",
    "    if n!=int(n) or n < 0:\n",
    "        print('n doit etre un entier positif')\n",
    "        return\n",
    "    elif n == 0:\n",
    "        L.append([x0,0])\n",
    "    else:\n",
    "        x = x0\n",
    "        L.append([x0,0])\n",
    "        for i in range(0,n):\n",
    "            x1 = x\n",
    "            x=f(x)\n",
    "            L.append([x1,x])\n",
    "            L.append([x,x])\n",
    "    return transpose(L)\n",
    "\n",
    "def transpose(M):\n",
    "    for i in M:\n",
    "        if len(i)!=len(M[0]):\n",
    "            print('pas une matrice')\n",
    "            return\n",
    "    Q = []\n",
    "    for i in M[0]:\n",
    "        Q.append([])\n",
    "    for i in range(len(M)):\n",
    "        for j in range(len(M[i])):\n",
    "            Q[j].append(M[i][j])\n",
    "    return Q\n",
    "\n",
    "def print_matrix(L):\n",
    "    for i in L:\n",
    "        print(i)"
   ]
  },
  {
   "cell_type": "code",
   "execution_count": 14,
   "metadata": {},
   "outputs": [],
   "source": [
    "global garder \n",
    "garder = False\n",
    "def graph(x0,g):\n",
    "    global n\n",
    "    def f(x):\n",
    "        return eval(g)\n",
    "    L = iterate_n_times(f,x0,n)\n",
    "    plt.figure(dpi = 250)\n",
    "    \n",
    "    if garder == False:\n",
    "        if len(transpose(L))>=21:\n",
    "            M = [[],[]]\n",
    "            Lt = transpose(L)\n",
    "            for i in Lt[-21:-1]:\n",
    "                M[0].append(i[0])\n",
    "                M[1].append(i[1])\n",
    "            L = M\n",
    "\n",
    "    maxi = max(L[0])\n",
    "    mini = min(L[0])\n",
    "\n",
    "    limu = maxi+0.25*(maxi-mini)\n",
    "    liml = mini-0.25*(maxi-mini)\n",
    "\n",
    "    if liml-limu<1:\n",
    "        liml=mini-1\n",
    "        limu=maxi+1\n",
    "    t = linspace(liml,limu,600)\n",
    "\n",
    "    F = [[],[]]                                     # Liste des coordonnées des points parcourus par f\n",
    "    for i in t:\n",
    "        F[0].append(i)\n",
    "        F[1].append(f(i))\n",
    "\n",
    "    plt.scatter(L[0], L[1], c = 'black')\n",
    "    for i in range(0, len(L[0])-1):\n",
    "        i = i+1\n",
    "        plt.plot([L[0][i-1],L[0][i]], [L[1][i-1],L[1][i]], c = 'red')\n",
    "    plt.plot(F[0],F[1], lw = 0.75)\n",
    "    plt.plot([liml,limu],[liml,limu], lw = 0.75)\n",
    "    plt.grid()\n"
   ]
  },
  {
   "cell_type": "code",
   "execution_count": 15,
   "metadata": {},
   "outputs": [
    {
     "data": {
      "application/vnd.jupyter.widget-view+json": {
       "model_id": "3ab6a57035104aeca2442ddcedcf91cf",
       "version_major": 2,
       "version_minor": 0
      },
      "text/plain": [
       "VBox(children=(HBox(children=(VBox(children=(Button(button_style='info', description='Itérer 10 fois', layout=…"
      ]
     },
     "execution_count": 15,
     "metadata": {},
     "output_type": "execute_result"
    }
   ],
   "source": [
    "global n\n",
    "n = 0\n",
    "\n",
    "buttonLayout = widgets.Layout(\n",
    "    width='250px', height='30px', justify_contents='flex-start')\n",
    "\n",
    "iterer = widgets.Button(description=\"Itérer\",\n",
    "              button_style='info', layout=buttonLayout)\n",
    "iterer_10_fois = widgets.Button(description=\"Itérer 10 fois\",\n",
    "              button_style='info', layout=buttonLayout)\n",
    "n_0 = widgets.Button(description=\"n = 0\",\n",
    "              button_style='info', layout=buttonLayout)\n",
    "garder_toutes_les_valeurs = widgets.Button(description=\"garder toutes les valeurs\",\n",
    "              button_style='info', layout=buttonLayout)\n",
    "def on_garder_toutes_les_valeurs(_):\n",
    "    global garder\n",
    "    if garder == False:\n",
    "        garder = True\n",
    "    else:\n",
    "        garder = False\n",
    "    x0.value = str(float(x0.value)+0.0001)\n",
    "    x0.value = str(float(x0.value)-0.0001)\n",
    "garder_toutes_les_valeurs.on_click(on_garder_toutes_les_valeurs)\n",
    "\n",
    "def on_iterer_10_fois_clicked(_):\n",
    "    global n \n",
    "    n = n +10\n",
    "    x0.value = str(float(x0.value)+0.0001)\n",
    "    x0.value = str(float(x0.value)-0.0001)\n",
    "iterer_10_fois.on_click(on_iterer_10_fois_clicked)\n",
    "\n",
    "def on_n_0_clicked(_):\n",
    "    global n \n",
    "    n = 0\n",
    "    x0.value = str(float(x0.value)+0.0001)\n",
    "    x0.value = str(float(x0.value)-0.0001)  \n",
    "n_0.on_click(on_n_0_clicked)\n",
    "def on_iterer_clicked(_):\n",
    "    global n \n",
    "    n = n+1\n",
    "    x0.value = str(float(x0.value)+0.0001)\n",
    "    x0.value = str(float(x0.value)-0.0001)\n",
    "\n",
    "iterer.on_click(on_iterer_clicked)\n",
    "\n",
    "g = widgets.Text(value='x+1.01*x*(1-x/55)', placeholder='Une fonction', description='f(x):', disabled=False)\n",
    "\n",
    "x0 = widgets.Text(value='1.0', placeholder='Un nombre', description='x0:', disabled=False)\n",
    "\n",
    "boutons = widgets.HBox([widgets.VBox([iterer_10_fois, n_0, iterer, garder_toutes_les_valeurs]), g, x0])\n",
    "\n",
    "main = widgets.VBox([boutons, widgets.interactive_output(graph,{'g': g, 'x0': x0})])\n",
    "main"
   ]
  }
 ],
 "metadata": {
  "kernelspec": {
   "display_name": "Python 3",
   "language": "python",
   "name": "python3"
  },
  "language_info": {
   "codemirror_mode": {
    "name": "ipython",
    "version": 3
   },
   "file_extension": ".py",
   "mimetype": "text/x-python",
   "name": "python",
   "nbconvert_exporter": "python",
   "pygments_lexer": "ipython3",
   "version": "3.10.5"
  },
  "orig_nbformat": 4
 },
 "nbformat": 4,
 "nbformat_minor": 2
}
